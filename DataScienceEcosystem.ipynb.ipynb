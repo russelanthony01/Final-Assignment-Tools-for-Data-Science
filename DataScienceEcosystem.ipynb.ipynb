{
 "cells": [
  {
   "cell_type": "markdown",
   "id": "2f05d709-a956-43d9-bc99-5c3c94231d5b",
   "metadata": {},
   "source": [
    "# Tools For Data Science - Final Assignment - IBM"
   ]
  },
  {
   "cell_type": "markdown",
   "id": "03dc0693-93d7-4f97-b5ec-2fa8691d29cf",
   "metadata": {},
   "source": [
    "## Exercise 1: Create a Jupyter Notebook"
   ]
  },
  {
   "cell_type": "markdown",
   "id": "3804e629-d7b4-4583-90ac-77ea13669f92",
   "metadata": {},
   "source": [
    "#### Create a new Jupyter notebook called DataScienceEcosystem.ipynb"
   ]
  },
  {
   "cell_type": "code",
   "execution_count": 1,
   "id": "60e93760-5128-4e1d-9b36-60b5d295b1e4",
   "metadata": {},
   "outputs": [],
   "source": [
    "# Notebook created and named DataScienceEcosystem.ipynb"
   ]
  },
  {
   "cell_type": "markdown",
   "id": "c47ba833-9ed7-4fc5-bca9-ef47f5b6ab0b",
   "metadata": {},
   "source": [
    "## Exercise 2: Create markdown cell with title of the notebook"
   ]
  },
  {
   "cell_type": "markdown",
   "id": "0116dbb8-3f37-4f9d-8285-e10bad211418",
   "metadata": {},
   "source": [
    "# Data Science Tools and Ecosystem"
   ]
  },
  {
   "cell_type": "markdown",
   "id": "4a5ec24c-8e03-4199-9ac9-0a469fa9042c",
   "metadata": {},
   "source": [
    "## Exercise 3 - Create a markdown cell for an introduction"
   ]
  },
  {
   "cell_type": "markdown",
   "id": "c527ee16-18ce-490d-96b0-3dce5935c227",
   "metadata": {},
   "source": [
    "In this notebook, Data Science Tools and Ecosystem are summarized."
   ]
  },
  {
   "cell_type": "markdown",
   "id": "212c9894-cc4f-4d57-ad5c-aa74d12f84af",
   "metadata": {},
   "source": [
    "# Exercise 4 - Create a markdown cell to list data science languages"
   ]
  },
  {
   "cell_type": "markdown",
   "id": "f5f21c33-2866-483b-9204-6c93e778f203",
   "metadata": {},
   "source": [
    "Some of the popular languages that Data Scientists use are:\n",
    "1. Python\n",
    "2. R\n",
    "3. SQL"
   ]
  },
  {
   "cell_type": "markdown",
   "id": "68512347-36ea-45ce-ac75-4437962991cf",
   "metadata": {},
   "source": [
    "# Exercise 5 - Create a markdown cell to list data science libraries"
   ]
  },
  {
   "cell_type": "markdown",
   "id": "07f090df-b65d-48a8-b251-250237b13860",
   "metadata": {},
   "source": [
    "Some of the commonly used libraries used by Data Scientists include:\n",
    "1. NumPy\n",
    "2. Pandas\n",
    "3. Matplotlib\n",
    "4. Seaborn\n",
    "5. Scikit-learn"
   ]
  },
  {
   "cell_type": "markdown",
   "id": "2c6d705b-4348-4002-a41d-958d9669526b",
   "metadata": {},
   "source": [
    "# Exercise 6 - Create a markdown cell with a table of Data Science tools"
   ]
  },
  {
   "cell_type": "markdown",
   "id": "86c819f7-4899-402e-8842-07f137293a68",
   "metadata": {},
   "source": [
    "\n",
    "|Data Science Tools|\n",
    "|--------------------|\n",
    "| Jupyter Notebook |\n",
    "| RStudio |\n",
    "|GitHub|\n",
    "|GitLab |"
   ]
  },
  {
   "cell_type": "markdown",
   "id": "350480a3-b032-477a-94bf-438128bba1dd",
   "metadata": {},
   "source": [
    "# Exercise 7 - Create a markdown cell introducing arithmetic expression examples"
   ]
  },
  {
   "cell_type": "markdown",
   "id": "b93fac86-3115-4aa3-b226-35badeeeda00",
   "metadata": {},
   "source": [
    "### Below are a few examples of evaluating arithmetic expressions in Python"
   ]
  },
  {
   "cell_type": "markdown",
   "id": "798665a5-1302-4406-907d-d8d0a4f35035",
   "metadata": {},
   "source": [
    "# Exercise 8 - Create a code cell to multiply and add numbers"
   ]
  },
  {
   "cell_type": "code",
   "execution_count": 3,
   "id": "e5ec0442-7702-4df0-a323-380a9b76edd2",
   "metadata": {},
   "outputs": [
    {
     "data": {
      "text/plain": [
       "17"
      ]
     },
     "execution_count": 3,
     "metadata": {},
     "output_type": "execute_result"
    }
   ],
   "source": [
    "# This a simple arithmetic expression to mutiply then add integers\n",
    "(3*4)+5"
   ]
  },
  {
   "cell_type": "markdown",
   "id": "840951af-fe38-48c7-a16c-4a1c44ba0b8e",
   "metadata": {},
   "source": [
    "# Exercise 9 - Create a code cell to convert minutes to hours"
   ]
  },
  {
   "cell_type": "code",
   "execution_count": 4,
   "id": "3a06db92-2924-4794-bf32-c945b508c5ee",
   "metadata": {},
   "outputs": [
    {
     "name": "stdout",
     "output_type": "stream",
     "text": [
      "3.3333333333333335\n"
     ]
    }
   ],
   "source": [
    "# This will convert 200 minutes to hours by diving by 60\n",
    "minutes = 200\n",
    "minutes_to_hours = 200 / 60\n",
    "print (minutes_to_hours)"
   ]
  },
  {
   "cell_type": "markdown",
   "id": "cfa85655-9e23-4da9-b667-11b760248443",
   "metadata": {},
   "source": [
    "# Exercise 10 - Insert a markdown cell to list Objectives"
   ]
  },
  {
   "cell_type": "markdown",
   "id": "5547403b-2848-4947-a204-4f35f7449df9",
   "metadata": {},
   "source": [
    "**Objectives:**\n",
    "  \n",
    "***List of popular languages in data science***\n",
    "- Python\n",
    "- SQL\n",
    "- R"
   ]
  },
  {
   "cell_type": "markdown",
   "id": "29306a47-7297-4c2f-a6a3-7093c7165eca",
   "metadata": {},
   "source": [
    "# Exercise 11 - Create a markdown cell to indicate the Author's name"
   ]
  },
  {
   "cell_type": "markdown",
   "id": "7236f090-5336-4805-bfe0-9e12d21166ef",
   "metadata": {},
   "source": [
    "## Author \n",
    "Russel Chandanshiv"
   ]
  }
 ],
 "metadata": {
  "kernelspec": {
   "display_name": "Python 3 (ipykernel)",
   "language": "python",
   "name": "python3"
  },
  "language_info": {
   "codemirror_mode": {
    "name": "ipython",
    "version": 3
   },
   "file_extension": ".py",
   "mimetype": "text/x-python",
   "name": "python",
   "nbconvert_exporter": "python",
   "pygments_lexer": "ipython3",
   "version": "3.12.7"
  }
 },
 "nbformat": 4,
 "nbformat_minor": 5
}
